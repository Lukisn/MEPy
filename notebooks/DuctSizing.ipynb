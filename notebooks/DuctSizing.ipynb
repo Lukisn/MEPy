{
 "cells": [
  {
   "cell_type": "markdown",
   "metadata": {},
   "source": [
    "# Duct Sizing"
   ]
  },
  {
   "cell_type": "code",
   "execution_count": 28,
   "metadata": {},
   "outputs": [],
   "source": [
    "def size_rect_duct(width, height):\n",
    "    \"\"\"Duct sizing calculations for rectangular ducts.\n",
    "    \n",
    "    This function carries out a duct sizing calculation and prints out the results.\n",
    "    \n",
    "    Args:\n",
    "        width (float): duct width in mm\n",
    "        height (float): duct height in mm\n",
    "    \n",
    "    Returns:\n",
    "        None\n",
    "    \"\"\"\n",
    "    area = height * width * 1e-6\n",
    "    print(f\"Area = {area:.3f} m²\")\n",
    "    #...\n",
    "    \n",
    "    \n",
    "def size_round_duct(diameter):\n",
    "    raise NotImplementedError"
   ]
  },
  {
   "cell_type": "code",
   "execution_count": 29,
   "metadata": {},
   "outputs": [
    {
     "data": {
      "application/vnd.jupyter.widget-view+json": {
       "model_id": "22f6e78bfcbb47f79c613dbb9419019c",
       "version_major": 2,
       "version_minor": 0
      },
      "text/plain": [
       "interactive(children=(IntSlider(value=400, description='width', max=4000, min=100, step=50), IntSlider(value=2…"
      ]
     },
     "metadata": {},
     "output_type": "display_data"
    }
   ],
   "source": [
    "from ipywidgets import interact, interactive, fixed, interact_manual\n",
    "import ipywidgets as widgets\n",
    "\n",
    "interact(\n",
    "    size_rect_duct,\n",
    "    width=widgets.IntSlider(min=100, max=4000, step=50, value=400),\n",
    "    height=widgets.IntSlider(min=100, max=4000, step=50, value=200));"
   ]
  },
  {
   "cell_type": "code",
   "execution_count": null,
   "metadata": {},
   "outputs": [],
   "source": []
  }
 ],
 "metadata": {
  "kernelspec": {
   "display_name": "Python 3",
   "language": "python",
   "name": "python3"
  },
  "language_info": {
   "codemirror_mode": {
    "name": "ipython",
    "version": 3
   },
   "file_extension": ".py",
   "mimetype": "text/x-python",
   "name": "python",
   "nbconvert_exporter": "python",
   "pygments_lexer": "ipython3",
   "version": "3.7.5"
  }
 },
 "nbformat": 4,
 "nbformat_minor": 2
}
