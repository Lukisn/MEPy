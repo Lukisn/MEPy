{
 "cells": [
  {
   "cell_type": "markdown",
   "metadata": {},
   "source": [
    "# Duct Sizing"
   ]
  },
  {
   "cell_type": "code",
   "execution_count": 44,
   "metadata": {},
   "outputs": [
    {
     "name": "stdout",
     "output_type": "stream",
     "text": [
      "temperature         T   = 293.15 K = 20 °C\n",
      "pressure            p   = 0.101325 MPa = 101325 Pa\n",
      "\n",
      "density             rho = 1.204575182493151 kg/m^3\n",
      "dynamic viscosity   mu  = 1.820567864499586e-05 Pa*s\n",
      "kinematic viscosity nu  = 1.5113775304016256e-05 m^2/s\n"
     ]
    }
   ],
   "source": [
    "import iapws.humidAir\n",
    "\n",
    "temp_C = 20  # °C\n",
    "temp_K = temp_C + 273.15  # K\n",
    "\n",
    "pressure_Pa = 101325  # Pa\n",
    "pressure_MPa = pressure_Pa / 1e6  # MPa\n",
    "\n",
    "relative_humidity = 0.5  # %\n",
    "\n",
    "air = iapws.humidAir.Air(T=temp_K, P=pressure_MPa)\n",
    "\n",
    "print(f\"temperature         T   = {temp_K} K = {temp_C} °C\")\n",
    "print(f\"pressure            p   = {pressure_MPa} MPa = {pressure_Pa} Pa\")\n",
    "print()\n",
    "print(f\"density             rho = {air.rho} kg/m^3\")\n",
    "print(f\"dynamic viscosity   mu  = {air.mu} Pa*s\")\n",
    "print(f\"kinematic viscosity nu  = {air.nu} m^2/s\")\n"
   ]
  },
  {
   "cell_type": "code",
   "execution_count": 22,
   "metadata": {},
   "outputs": [],
   "source": [
    "def size_rect_duct(width, height, length, flow):\n",
    "    \"\"\"Duct sizing calculations for rectangular ducts.\n",
    "    ‚\n",
    "    This function carries out a duct sizing calculation and prints out the results.\n",
    "    \n",
    "    Args:\n",
    "        width (float): duct width in mm\n",
    "        height (float): duct height in mm\n",
    "        length (float): duct length in mm\n",
    "        flow (float): air flow in m^3/h\n",
    "    \n",
    "    Returns:\n",
    "        None\n",
    "    \"\"\"\n",
    "    cross_section = height * width * 1e-6  # m²\n",
    "    circumference = (2 * height + 2 * width) / 1e3  # m\n",
    "    hydraulic_diameter = 4 * cross_section / circumference * 1e3  # mm\n",
    "    velocity = flow / cross_section / 3600  # m/s\n",
    "    \"\"\"\n",
    "    reynolds = density * velocity * hydraulic_diameter / dynamic_viscosity\n",
    "             = velocity * hydraulic_diameter / kinematic_viscosity\n",
    "    \"\"\"\n",
    "    \n",
    "    print(f\"Cross Section Area = {cross_section:.3f} m²\")\n",
    "    print(f\"Circumference      = {circumference:.3f} m\")\n",
    "    print(f\"Hydraulic Diameter = {hydraulic_diameter:.3f} mm\")\n",
    "    print(f\"Air Velocity       = {velocity:.3f} m/s\")\n",
    "    \n",
    "    \n",
    "def size_round_duct(diameter):\n",
    "    raise NotImplementedError"
   ]
  },
  {
   "cell_type": "code",
   "execution_count": 23,
   "metadata": {},
   "outputs": [
    {
     "data": {
      "application/vnd.jupyter.widget-view+json": {
       "model_id": "daa7eb446efa4ef3ba3b0fcafde332ee",
       "version_major": 2,
       "version_minor": 0
      },
      "text/html": [
       "<p>Failed to display Jupyter Widget of type <code>interactive</code>.</p>\n",
       "<p>\n",
       "  If you're reading this message in the Jupyter Notebook or JupyterLab Notebook, it may mean\n",
       "  that the widgets JavaScript is still loading. If this message persists, it\n",
       "  likely means that the widgets JavaScript library is either not installed or\n",
       "  not enabled. See the <a href=\"https://ipywidgets.readthedocs.io/en/stable/user_install.html\">Jupyter\n",
       "  Widgets Documentation</a> for setup instructions.\n",
       "</p>\n",
       "<p>\n",
       "  If you're reading this message in another frontend (for example, a static\n",
       "  rendering on GitHub or <a href=\"https://nbviewer.jupyter.org/\">NBViewer</a>),\n",
       "  it may mean that your frontend doesn't currently support widgets.\n",
       "</p>\n"
      ],
      "text/plain": [
       "interactive(children=(IntSlider(value=400, description='width', max=4000, min=100, step=50), IntSlider(value=200, description='height', max=4000, min=100, step=50), IntSlider(value=100, description='flow', max=100000, min=10, step=10), Output()), _dom_classes=('widget-interact',))"
      ]
     },
     "metadata": {},
     "output_type": "display_data"
    }
   ],
   "source": [
    "from ipywidgets import interact, interactive, fixed, interact_manual\n",
    "import ipywidgets as widgets\n",
    "\n",
    "interact(\n",
    "    size_rect_duct,\n",
    "    width=widgets.IntSlider(min=100, max=4000, step=50, value=400),\n",
    "    height=widgets.IntSlider(min=100, max=4000, step=50, value=200),\n",
    "    length=fixed(1),  # widgets.FloatSlider(min=0.1, max=1000.0, step=0.1, value=1.0)\n",
    "    flow=widgets.IntSlider(min=10, max=100000, step=10, value=100)\n",
    ");"
   ]
  },
  {
   "cell_type": "code",
   "execution_count": null,
   "metadata": {},
   "outputs": [],
   "source": []
  }
 ],
 "metadata": {
  "kernelspec": {
   "display_name": "Python 3",
   "language": "python",
   "name": "python3"
  }
 },
 "nbformat": 4,
 "nbformat_minor": 2
}
