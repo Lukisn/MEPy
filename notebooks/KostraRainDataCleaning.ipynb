{
 "cells": [
  {
   "cell_type": "markdown",
   "metadata": {},
   "source": [
    "# DWD KOSTRA 2010 Data Cleaning"
   ]
  },
  {
   "cell_type": "code",
   "execution_count": null,
   "metadata": {},
   "outputs": [],
   "source": [
    "def clean_csv_file(source, target):\n",
    "    \"\"\"Change CSV structure of dataset files.\"\"\"\n",
    "    with open(source, \"r\") as source_file:\n",
    "        with open(target, \"w\") as target_file:\n",
    "            for line in source_file:\n",
    "                target_file.write(line.lower().replace(\",\", \".\").replace(\";\", \",\"))"
   ]
  },
  {
   "cell_type": "code",
   "execution_count": null,
   "metadata": {},
   "outputs": [],
   "source": [
    "pairs = [\n",
    "    (\"../kostra/original/Raster_geog_bezug.csv\", \"../kostra/raster.csv\"),\n",
    "    (\"../kostra/original/StatRR_KOSTRA-DWD-2010R_D0005.csv\", \"../kostra/d0005.csv\"),\n",
    "    (\"../kostra/original/StatRR_KOSTRA-DWD-2010R_D0010.csv\", \"../kostra/d0010.csv\"),\n",
    "    (\"../kostra/original/StatRR_KOSTRA-DWD-2010R_D0015.csv\", \"../kostra/d0015.csv\"),\n",
    "    (\"../kostra/original/StatRR_KOSTRA-DWD-2010R_D0020.csv\", \"../kostra/d0020.csv\"),\n",
    "    (\"../kostra/original/StatRR_KOSTRA-DWD-2010R_D0030.csv\", \"../kostra/d0030.csv\"),\n",
    "    (\"../kostra/original/StatRR_KOSTRA-DWD-2010R_D0045.csv\", \"../kostra/d0045.csv\"),\n",
    "    (\"../kostra/original/StatRR_KOSTRA-DWD-2010R_D0060.csv\", \"../kostra/d0060.csv\"),\n",
    "    (\"../kostra/original/StatRR_KOSTRA-DWD-2010R_D0090.csv\", \"../kostra/d0090.csv\"),\n",
    "    (\"../kostra/original/StatRR_KOSTRA-DWD-2010R_D0120.csv\", \"../kostra/d0120.csv\"),\n",
    "    (\"../kostra/original/StatRR_KOSTRA-DWD-2010R_D0180.csv\", \"../kostra/d0180.csv\"),\n",
    "    (\"../kostra/original/StatRR_KOSTRA-DWD-2010R_D0240.csv\", \"../kostra/d0240.csv\"),\n",
    "    (\"../kostra/original/StatRR_KOSTRA-DWD-2010R_D0360.csv\", \"../kostra/d0360.csv\"),\n",
    "    (\"../kostra/original/StatRR_KOSTRA-DWD-2010R_D0540.csv\", \"../kostra/d0540.csv\"),\n",
    "    (\"../kostra/original/StatRR_KOSTRA-DWD-2010R_D0720.csv\", \"../kostra/d0720.csv\"),\n",
    "    (\"../kostra/original/StatRR_KOSTRA-DWD-2010R_D1080.csv\", \"../kostra/d1080.csv\"),\n",
    "    (\"../kostra/original/StatRR_KOSTRA-DWD-2010R_D1440.csv\", \"../kostra/d1440.csv\"),\n",
    "    (\"../kostra/original/StatRR_KOSTRA-DWD-2010R_D2880.csv\", \"../kostra/d2880.csv\"),\n",
    "    (\"../kostra/original/StatRR_KOSTRA-DWD-2010R_D4320.csv\", \"../kostra/d4320.csv\"),\n",
    "]\n",
    "\n",
    "for source, target in pairs:\n",
    "    clean_csv_file(source, target)"
   ]
  }
 ],
 "metadata": {
  "kernelspec": {
   "display_name": "Python 3",
   "language": "python",
   "name": "python3"
  },
  "language_info": {
   "codemirror_mode": {
    "name": "ipython",
    "version": 3
   },
   "file_extension": ".py",
   "mimetype": "text/x-python",
   "name": "python",
   "nbconvert_exporter": "python",
   "pygments_lexer": "ipython3",
   "version": "3.6.1"
  }
 },
 "nbformat": 4,
 "nbformat_minor": 2
}
